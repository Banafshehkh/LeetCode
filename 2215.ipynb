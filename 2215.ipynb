{
  "nbformat": 4,
  "nbformat_minor": 0,
  "metadata": {
    "colab": {
      "provenance": [],
      "authorship_tag": "ABX9TyMlVyk1acXE6Hc3yhHVDS1l",
      "include_colab_link": true
    },
    "kernelspec": {
      "name": "python3",
      "display_name": "Python 3"
    },
    "language_info": {
      "name": "python"
    }
  },
  "cells": [
    {
      "cell_type": "markdown",
      "metadata": {
        "id": "view-in-github",
        "colab_type": "text"
      },
      "source": [
        "<a href=\"https://colab.research.google.com/github/Banafshehkh/LeetCode/blob/main/2215.ipynb\" target=\"_parent\"><img src=\"https://colab.research.google.com/assets/colab-badge.svg\" alt=\"Open In Colab\"/></a>"
      ]
    },
    {
      "cell_type": "code",
      "execution_count": 1,
      "metadata": {
        "id": "UwjloNTSooxN"
      },
      "outputs": [],
      "source": [
        "# Author: Banafsheh Khazali\n",
        "# Date: June 06, 2023\n",
        "# Easy"
      ]
    },
    {
      "cell_type": "markdown",
      "source": [
        "Given two 0-indexed integer arrays nums1 and nums2, return a list answer of size 2 where:\n",
        "\n",
        "    answer[0] is a list of all distinct integers in nums1 which are not present in nums2.\n",
        "    answer[1] is a list of all distinct integers in nums2 which are not present in nums1.\n",
        "\n",
        "Note that the integers in the lists may be returned in any order.\n",
        "\n",
        " \n",
        "\n",
        "Example 1:\n",
        "\n",
        "Input: nums1 = [1,2,3], nums2 = [2,4,6]\n",
        "Output: [[1,3],[4,6]]\n",
        "Explanation:\n",
        "For nums1, nums1[1] = 2 is present at index 0 of nums2, whereas nums1[0] = 1 and nums1[2] = 3 are not present in nums2. Therefore, answer[0] = [1,3].\n",
        "For nums2, nums2[0] = 2 is present at index 1 of nums1, whereas nums2[1] = 4 and nums2[2] = 6 are not present in nums2. Therefore, answer[1] = [4,6].\n",
        "\n",
        "Example 2:\n",
        "\n",
        "Input: nums1 = [1,2,3,3], nums2 = [1,1,2,2]\n",
        "Output: [[3],[]]\n",
        "Explanation:\n",
        "For nums1, nums1[2] and nums1[3] are not present in nums2. Since nums1[2] == nums1[3], their value is only included once and answer[0] = [3].\n",
        "Every integer in nums2 is present in nums1. Therefore, answer[1] = [].\n"
      ],
      "metadata": {
        "id": "_Yt9C75foqfG"
      }
    },
    {
      "cell_type": "code",
      "source": [
        "from traitlets.traitlets import List\n",
        "class Solution:\n",
        "    def findDifference(self, nums1: list[int], nums2: list[int]) -> list[list[int]]:\n",
        "      result1 = []\n",
        "      result2 = []\n",
        "      result = []\n",
        "\n",
        "\n",
        "      \n",
        "      for i in set(nums1):\n",
        "        if i not in nums2:\n",
        "          result1.append(i)\n",
        "      for j in set(nums2):\n",
        "        if j not in nums1:\n",
        "          result2.append(j)\n",
        "      \n",
        "        \n",
        "      return [result1, result2]\n",
        "      \n",
        "          \n",
        "\n",
        "sl = Solution()\n",
        "\n",
        "nums1 = [1, 2, 3]\n",
        "nums2 = [2, 4, 1]\n",
        "\n",
        "sl.findDifference(nums1, nums2)\n",
        "\n",
        "\n"
      ],
      "metadata": {
        "colab": {
          "base_uri": "https://localhost:8080/"
        },
        "id": "NAE4_ExTo09A",
        "outputId": "511a32fe-c872-4f17-d768-82c57e953163"
      },
      "execution_count": 11,
      "outputs": [
        {
          "output_type": "execute_result",
          "data": {
            "text/plain": [
              "[[3], [4]]"
            ]
          },
          "metadata": {},
          "execution_count": 11
        }
      ]
    },
    {
      "cell_type": "code",
      "source": [],
      "metadata": {
        "id": "L9eDXKX4ryGe"
      },
      "execution_count": null,
      "outputs": []
    }
  ]
}